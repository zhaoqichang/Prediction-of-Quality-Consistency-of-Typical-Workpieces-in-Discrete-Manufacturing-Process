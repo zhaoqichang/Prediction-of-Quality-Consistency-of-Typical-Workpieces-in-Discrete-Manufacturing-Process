{
 "cells": [
  {
   "cell_type": "markdown",
   "metadata": {
    "colab_type": "text",
    "id": "QXFuextdaiYR"
   },
   "source": [
    "## （二）、技能目标\n",
    "**熟练使用pandas进行数据选择与清洗**\n",
    "\n",
    "**熟练使用sklearn对数据进行标准化、归一化**\n",
    "\n",
    "**熟练使用pandas进行特征选择与重做**"
   ]
  },
  {
   "cell_type": "markdown",
   "metadata": {
    "colab_type": "text",
    "id": "SV8A3xIwaiYS"
   },
   "source": [
    "## （三）、素养目标\n",
    "**1.锻炼学生利用网络查找、使用资料的能力**\n",
    "\n",
    "**2.锻炼学生撰写文档的能力**\n",
    "\n",
    "**3.锻炼学生观察数据、处理数据的能力**\n",
    "\n",
    "**4.锻炼学生使用pandas库针对数据做特征工程的能力**\n"
   ]
  },
  {
   "cell_type": "markdown",
   "metadata": {
    "colab_type": "text",
    "id": "jnHYRgdCaiYT"
   },
   "source": [
    "# 实训任务"
   ]
  },
  {
   "cell_type": "markdown",
   "metadata": {
    "colab_type": "text",
    "id": "_DO8FBLJaiYU"
   },
   "source": [
    "**相关包的导入：导入数据读取包以及数据处理**\n",
    "\n",
    "**数据的读取以及多任务池的设定：运用pandas来读取数据文件，由于数据量较大为此设定一个多任务池**\n",
    "\n",
    "**数据集的整合：运用pandas来整合数据（因为数据是多个文件组合而成的）**\n",
    "\n",
    "**观察数据选择有用的特征：索引出要用的特征**\n",
    "\n",
    "**数据集特征的部分剔除：pandas里的drop函数删除部分内容**\n",
    "\n",
    "**数据的特征工程以及数据的处理：pandas做特征工程**\n",
    "\n",
    "**数据标签化：sklearn来做数据标签化**\n",
    "\n",
    "**数据划分：对训练集进行特征和标签的划分，测试集删掉不需要的列**"
   ]
  },
  {
   "cell_type": "markdown",
   "metadata": {
    "colab_type": "text",
    "id": "HLsvaFMvaiYU"
   },
   "source": [
    "# 任务步骤"
   ]
  },
  {
   "cell_type": "markdown",
   "metadata": {
    "colab_type": "text",
    "id": "Xx4ppT87aiYV"
   },
   "source": [
    "**1、导入相关的包**\n",
    "加载谷歌硬盘包 drive\n",
    "\n",
    "导入catboost 算法包\n",
    "\n",
    "导入xgb 算法包\n",
    "\n",
    "导入kmeans聚类算法包\n",
    "\n",
    "导入预处理标签编码包 labelencoder\n",
    "\n",
    "导入时间包time\n",
    "\n",
    "导入数据读取包pandas\n",
    "\n",
    "导入科学计算包numpy\n",
    "\n",
    "导入matplotlib画图包\n",
    "\n",
    "导入seaborn可视化包\n",
    "\n",
    "导入gc垃圾回收包\n",
    "\n",
    "导入warnings包"
   ]
  },
  {
   "cell_type": "code",
   "execution_count": 1,
   "metadata": {
    "colab": {
     "base_uri": "https://localhost:8080/",
     "height": 438
    },
    "colab_type": "code",
    "executionInfo": {
     "elapsed": 49835,
     "status": "ok",
     "timestamp": 1574777883239,
     "user": {
      "displayName": "关亦林",
      "photoUrl": "",
      "userId": "18260288366228229598"
     },
     "user_tz": -480
    },
    "id": "pp-QxbWbaiYW",
    "outputId": "67a1d47f-8b39-4caf-8eba-c80d2aa9ae75"
   },
   "outputs": [
    {
     "name": "stdout",
     "output_type": "stream",
     "text": [
      "Go to this URL in a browser: https://accounts.google.com/o/oauth2/auth?client_id=947318989803-6bn6qk8qdgf4n4g3pfee6491hc0brc4i.apps.googleusercontent.com&redirect_uri=urn%3aietf%3awg%3aoauth%3a2.0%3aoob&response_type=code&scope=email%20https%3a%2f%2fwww.googleapis.com%2fauth%2fdocs.test%20https%3a%2f%2fwww.googleapis.com%2fauth%2fdrive%20https%3a%2f%2fwww.googleapis.com%2fauth%2fdrive.photos.readonly%20https%3a%2f%2fwww.googleapis.com%2fauth%2fpeopleapi.readonly\n",
      "\n",
      "Enter your authorization code:\n",
      "··········\n",
      "Mounted at /content/drive\n",
      "Collecting catboost\n",
      "\u001b[?25l  Downloading https://files.pythonhosted.org/packages/bf/8f/8b75806399bd4eb3125cb6aa0bad73e279648770e7bb4dee441b24acb959/catboost-0.19.1-cp36-none-manylinux1_x86_64.whl (63.0MB)\n",
      "\u001b[K     |████████████████████████████████| 63.0MB 114kB/s \n",
      "\u001b[?25hRequirement already satisfied: six in /usr/local/lib/python3.6/dist-packages (from catboost) (1.12.0)\n",
      "Requirement already satisfied: plotly in /usr/local/lib/python3.6/dist-packages (from catboost) (4.1.1)\n",
      "Requirement already satisfied: numpy>=1.16.0 in /usr/local/lib/python3.6/dist-packages (from catboost) (1.17.4)\n",
      "Requirement already satisfied: graphviz in /usr/local/lib/python3.6/dist-packages (from catboost) (0.10.1)\n",
      "Requirement already satisfied: pandas>=0.24.0 in /usr/local/lib/python3.6/dist-packages (from catboost) (0.25.3)\n",
      "Requirement already satisfied: scipy in /usr/local/lib/python3.6/dist-packages (from catboost) (1.3.2)\n",
      "Requirement already satisfied: matplotlib in /usr/local/lib/python3.6/dist-packages (from catboost) (3.1.1)\n",
      "Requirement already satisfied: retrying>=1.3.3 in /usr/local/lib/python3.6/dist-packages (from plotly->catboost) (1.3.3)\n",
      "Requirement already satisfied: python-dateutil>=2.6.1 in /usr/local/lib/python3.6/dist-packages (from pandas>=0.24.0->catboost) (2.6.1)\n",
      "Requirement already satisfied: pytz>=2017.2 in /usr/local/lib/python3.6/dist-packages (from pandas>=0.24.0->catboost) (2018.9)\n",
      "Requirement already satisfied: pyparsing!=2.0.4,!=2.1.2,!=2.1.6,>=2.0.1 in /usr/local/lib/python3.6/dist-packages (from matplotlib->catboost) (2.4.5)\n",
      "Requirement already satisfied: kiwisolver>=1.0.1 in /usr/local/lib/python3.6/dist-packages (from matplotlib->catboost) (1.1.0)\n",
      "Requirement already satisfied: cycler>=0.10 in /usr/local/lib/python3.6/dist-packages (from matplotlib->catboost) (0.10.0)\n",
      "Requirement already satisfied: setuptools in /usr/local/lib/python3.6/dist-packages (from kiwisolver>=1.0.1->matplotlib->catboost) (41.6.0)\n",
      "Installing collected packages: catboost\n",
      "Successfully installed catboost-0.19.1\n"
     ]
    }
   ],
   "source": [
    "# #colab 加载谷歌硬盘  安装catboost 模块\n",
    "from google.colab import drive\n",
    "drive.mount('/content/drive')\n",
    "#下载catboost包\n",
    "!pip install catboost\n",
    "\n",
    "import numpy as np     ##科学计算包\n",
    "import pandas as pd    ##读取csv文件包\n",
    "import catboost as cbt   #catboost 算法包 \n",
    "from lightgbm.sklearn import LGBMClassifier    #lbg 分类算法包\n",
    "from xgboost import XGBClassifier     #xbg 分类算法包\n",
    "from sklearn.cluster import KMeans   #kmeans  聚类算法包\n",
    "import matplotlib.pyplot as plt   ##可视化包 \n",
    "import seaborn as sns    \n",
    "from sklearn.preprocessing import LabelEncoder  #标签编码包\n",
    "import time   ##时间包\n",
    "import warnings    ##警告包\n",
    "warnings.filterwarnings('ignore')##过滤警告"
   ]
  },
  {
   "cell_type": "markdown",
   "metadata": {
    "colab_type": "text",
    "id": "bDnXVVrmaiYZ"
   },
   "source": [
    "**2、数据读取**\n",
    "\n",
    "使用pandas下的read_csv()函数读取文件"
   ]
  },
  {
   "cell_type": "code",
   "execution_count": 2,
   "metadata": {
    "colab": {
     "base_uri": "https://localhost:8080/",
     "height": 216
    },
    "colab_type": "code",
    "executionInfo": {
     "elapsed": 49815,
     "status": "ok",
     "timestamp": 1574777883240,
     "user": {
      "displayName": "关亦林",
      "photoUrl": "",
      "userId": "18260288366228229598"
     },
     "user_tz": -480
    },
    "id": "n5vQVDmBaiYZ",
    "outputId": "a860122c-8f6e-467a-f9f1-169f1e09fb84"
   },
   "outputs": [
    {
     "data": {
      "text/html": [
       "<div>\n",
       "<style scoped>\n",
       "    .dataframe tbody tr th:only-of-type {\n",
       "        vertical-align: middle;\n",
       "    }\n",
       "\n",
       "    .dataframe tbody tr th {\n",
       "        vertical-align: top;\n",
       "    }\n",
       "\n",
       "    .dataframe thead th {\n",
       "        text-align: right;\n",
       "    }\n",
       "</style>\n",
       "<table border=\"1\" class=\"dataframe\">\n",
       "  <thead>\n",
       "    <tr style=\"text-align: right;\">\n",
       "      <th></th>\n",
       "      <th>Parameter1</th>\n",
       "      <th>Parameter2</th>\n",
       "      <th>Parameter3</th>\n",
       "      <th>Parameter4</th>\n",
       "      <th>Parameter5</th>\n",
       "      <th>Parameter6</th>\n",
       "      <th>Parameter7</th>\n",
       "      <th>Parameter8</th>\n",
       "      <th>Parameter9</th>\n",
       "      <th>Parameter10</th>\n",
       "      <th>Attribute1</th>\n",
       "      <th>Attribute2</th>\n",
       "      <th>Attribute3</th>\n",
       "      <th>Attribute4</th>\n",
       "      <th>Attribute5</th>\n",
       "      <th>Attribute6</th>\n",
       "      <th>Attribute7</th>\n",
       "      <th>Attribute8</th>\n",
       "      <th>Attribute9</th>\n",
       "      <th>Attribute10</th>\n",
       "      <th>Quality_label</th>\n",
       "    </tr>\n",
       "  </thead>\n",
       "  <tbody>\n",
       "    <tr>\n",
       "      <th>0</th>\n",
       "      <td>0.001660</td>\n",
       "      <td>0.591013</td>\n",
       "      <td>147.608373</td>\n",
       "      <td>38.186345</td>\n",
       "      <td>0.000421</td>\n",
       "      <td>0.000612</td>\n",
       "      <td>2286.523413</td>\n",
       "      <td>0.035407</td>\n",
       "      <td>0.593081</td>\n",
       "      <td>1.010385</td>\n",
       "      <td>6.856075</td>\n",
       "      <td>0.168761</td>\n",
       "      <td>1.098755</td>\n",
       "      <td>36.955992</td>\n",
       "      <td>8.454598</td>\n",
       "      <td>11.438066</td>\n",
       "      <td>177.243120</td>\n",
       "      <td>338.729256</td>\n",
       "      <td>2.021704</td>\n",
       "      <td>0.079526</td>\n",
       "      <td>Pass</td>\n",
       "    </tr>\n",
       "    <tr>\n",
       "      <th>1</th>\n",
       "      <td>1.601749</td>\n",
       "      <td>0.015052</td>\n",
       "      <td>0.035864</td>\n",
       "      <td>51.130326</td>\n",
       "      <td>0.000909</td>\n",
       "      <td>0.002397</td>\n",
       "      <td>2286.523413</td>\n",
       "      <td>0.035407</td>\n",
       "      <td>0.593081</td>\n",
       "      <td>1.010385</td>\n",
       "      <td>0.000362</td>\n",
       "      <td>11.649033</td>\n",
       "      <td>0.066671</td>\n",
       "      <td>225.632949</td>\n",
       "      <td>0.481860</td>\n",
       "      <td>20597.447822</td>\n",
       "      <td>3.723330</td>\n",
       "      <td>15.376190</td>\n",
       "      <td>0.986973</td>\n",
       "      <td>4.634376</td>\n",
       "      <td>Fail</td>\n",
       "    </tr>\n",
       "    <tr>\n",
       "      <th>2</th>\n",
       "      <td>0.098039</td>\n",
       "      <td>69.233685</td>\n",
       "      <td>0.080920</td>\n",
       "      <td>0.112265</td>\n",
       "      <td>0.000909</td>\n",
       "      <td>0.001972</td>\n",
       "      <td>2286.523413</td>\n",
       "      <td>0.035407</td>\n",
       "      <td>0.593081</td>\n",
       "      <td>1.010385</td>\n",
       "      <td>0.022201</td>\n",
       "      <td>0.078213</td>\n",
       "      <td>110.079689</td>\n",
       "      <td>2.208138</td>\n",
       "      <td>0.073525</td>\n",
       "      <td>236.079314</td>\n",
       "      <td>0.064196</td>\n",
       "      <td>0.576302</td>\n",
       "      <td>33.875790</td>\n",
       "      <td>1.813727</td>\n",
       "      <td>Fail</td>\n",
       "    </tr>\n",
       "    <tr>\n",
       "      <th>3</th>\n",
       "      <td>18.181860</td>\n",
       "      <td>0.047325</td>\n",
       "      <td>0.018061</td>\n",
       "      <td>1.098102</td>\n",
       "      <td>0.000909</td>\n",
       "      <td>0.002397</td>\n",
       "      <td>2286.523413</td>\n",
       "      <td>0.035407</td>\n",
       "      <td>0.593081</td>\n",
       "      <td>1.010385</td>\n",
       "      <td>1.459004</td>\n",
       "      <td>0.380281</td>\n",
       "      <td>0.011491</td>\n",
       "      <td>0.654517</td>\n",
       "      <td>0.025872</td>\n",
       "      <td>176.948915</td>\n",
       "      <td>0.029777</td>\n",
       "      <td>0.246726</td>\n",
       "      <td>27.117165</td>\n",
       "      <td>0.081819</td>\n",
       "      <td>Fail</td>\n",
       "    </tr>\n",
       "    <tr>\n",
       "      <th>4</th>\n",
       "      <td>0.012085</td>\n",
       "      <td>0.008749</td>\n",
       "      <td>0.005509</td>\n",
       "      <td>524.327396</td>\n",
       "      <td>0.000909</td>\n",
       "      <td>0.002397</td>\n",
       "      <td>2286.523413</td>\n",
       "      <td>0.035407</td>\n",
       "      <td>0.593081</td>\n",
       "      <td>1.010385</td>\n",
       "      <td>11.576647</td>\n",
       "      <td>1.555672</td>\n",
       "      <td>38.613386</td>\n",
       "      <td>0.260989</td>\n",
       "      <td>0.009380</td>\n",
       "      <td>194.798039</td>\n",
       "      <td>0.055053</td>\n",
       "      <td>0.014725</td>\n",
       "      <td>13.569707</td>\n",
       "      <td>18.138496</td>\n",
       "      <td>Fail</td>\n",
       "    </tr>\n",
       "  </tbody>\n",
       "</table>\n",
       "</div>"
      ],
      "text/plain": [
       "   Parameter1  Parameter2  Parameter3  ...  Attribute9  Attribute10  Quality_label\n",
       "0    0.001660    0.591013  147.608373  ...    2.021704     0.079526           Pass\n",
       "1    1.601749    0.015052    0.035864  ...    0.986973     4.634376           Fail\n",
       "2    0.098039   69.233685    0.080920  ...   33.875790     1.813727           Fail\n",
       "3   18.181860    0.047325    0.018061  ...   27.117165     0.081819           Fail\n",
       "4    0.012085    0.008749    0.005509  ...   13.569707    18.138496           Fail\n",
       "\n",
       "[5 rows x 21 columns]"
      ]
     },
     "execution_count": 2,
     "metadata": {
      "tags": []
     },
     "output_type": "execute_result"
    }
   ],
   "source": [
    "# 加载数据    \n",
    "# /content/drive/My Drive/Colab Notebooks 这个是  谷歌硬盘的地址\n",
    "#zip 是压缩文件  加载出来跟里面的csv 文件是一样的\n",
    "train = pd.read_csv('/content/drive/My Drive/Colab Notebooks/离散制造/first_round_training_data.zip')  #训练集数据\n",
    "test = pd.read_csv('/content/drive/My Drive/Colab Notebooks/离散制造/first_round_testing_data.zip')   #测试集数据\n",
    "train.head()"
   ]
  },
  {
   "cell_type": "code",
   "execution_count": 3,
   "metadata": {
    "colab": {
     "base_uri": "https://localhost:8080/",
     "height": 196
    },
    "colab_type": "code",
    "executionInfo": {
     "elapsed": 49801,
     "status": "ok",
     "timestamp": 1574777883241,
     "user": {
      "displayName": "关亦林",
      "photoUrl": "",
      "userId": "18260288366228229598"
     },
     "user_tz": -480
    },
    "id": "wD0MJUO0EIUf",
    "outputId": "4fc7785a-1e69-400f-efb5-4ad12922df3c"
   },
   "outputs": [
    {
     "data": {
      "text/html": [
       "<div>\n",
       "<style scoped>\n",
       "    .dataframe tbody tr th:only-of-type {\n",
       "        vertical-align: middle;\n",
       "    }\n",
       "\n",
       "    .dataframe tbody tr th {\n",
       "        vertical-align: top;\n",
       "    }\n",
       "\n",
       "    .dataframe thead th {\n",
       "        text-align: right;\n",
       "    }\n",
       "</style>\n",
       "<table border=\"1\" class=\"dataframe\">\n",
       "  <thead>\n",
       "    <tr style=\"text-align: right;\">\n",
       "      <th></th>\n",
       "      <th>Group</th>\n",
       "      <th>Parameter1</th>\n",
       "      <th>Parameter10</th>\n",
       "      <th>Parameter2</th>\n",
       "      <th>Parameter3</th>\n",
       "      <th>Parameter4</th>\n",
       "      <th>Parameter5</th>\n",
       "      <th>Parameter6</th>\n",
       "      <th>Parameter7</th>\n",
       "      <th>Parameter8</th>\n",
       "      <th>Parameter9</th>\n",
       "    </tr>\n",
       "  </thead>\n",
       "  <tbody>\n",
       "    <tr>\n",
       "      <th>0</th>\n",
       "      <td>0</td>\n",
       "      <td>0.235279</td>\n",
       "      <td>0.195680</td>\n",
       "      <td>0.351488</td>\n",
       "      <td>0.186814</td>\n",
       "      <td>0.086456</td>\n",
       "      <td>1.434060</td>\n",
       "      <td>1.230409</td>\n",
       "      <td>0.038483</td>\n",
       "      <td>2.931083</td>\n",
       "      <td>2.005852</td>\n",
       "    </tr>\n",
       "    <tr>\n",
       "      <th>1</th>\n",
       "      <td>0</td>\n",
       "      <td>0.043799</td>\n",
       "      <td>0.523976</td>\n",
       "      <td>32.590688</td>\n",
       "      <td>0.886285</td>\n",
       "      <td>29.702490</td>\n",
       "      <td>0.027434</td>\n",
       "      <td>0.016852</td>\n",
       "      <td>0.600827</td>\n",
       "      <td>0.118077</td>\n",
       "      <td>887.611257</td>\n",
       "    </tr>\n",
       "    <tr>\n",
       "      <th>2</th>\n",
       "      <td>0</td>\n",
       "      <td>21.466737</td>\n",
       "      <td>0.523976</td>\n",
       "      <td>11.847792</td>\n",
       "      <td>79499.554454</td>\n",
       "      <td>13544.605343</td>\n",
       "      <td>0.027434</td>\n",
       "      <td>0.016852</td>\n",
       "      <td>0.600827</td>\n",
       "      <td>0.118077</td>\n",
       "      <td>887.611257</td>\n",
       "    </tr>\n",
       "    <tr>\n",
       "      <th>3</th>\n",
       "      <td>0</td>\n",
       "      <td>0.703795</td>\n",
       "      <td>0.010192</td>\n",
       "      <td>0.018080</td>\n",
       "      <td>317.015599</td>\n",
       "      <td>38.087562</td>\n",
       "      <td>0.428092</td>\n",
       "      <td>0.314162</td>\n",
       "      <td>0.038483</td>\n",
       "      <td>17.850021</td>\n",
       "      <td>0.051850</td>\n",
       "    </tr>\n",
       "    <tr>\n",
       "      <th>4</th>\n",
       "      <td>0</td>\n",
       "      <td>10.447960</td>\n",
       "      <td>0.010192</td>\n",
       "      <td>15.983891</td>\n",
       "      <td>0.996049</td>\n",
       "      <td>16.715690</td>\n",
       "      <td>0.477823</td>\n",
       "      <td>0.464037</td>\n",
       "      <td>0.038483</td>\n",
       "      <td>17.850021</td>\n",
       "      <td>0.051850</td>\n",
       "    </tr>\n",
       "  </tbody>\n",
       "</table>\n",
       "</div>"
      ],
      "text/plain": [
       "   Group  Parameter1  Parameter10  ...  Parameter7  Parameter8  Parameter9\n",
       "0      0    0.235279     0.195680  ...    0.038483    2.931083    2.005852\n",
       "1      0    0.043799     0.523976  ...    0.600827    0.118077  887.611257\n",
       "2      0   21.466737     0.523976  ...    0.600827    0.118077  887.611257\n",
       "3      0    0.703795     0.010192  ...    0.038483   17.850021    0.051850\n",
       "4      0   10.447960     0.010192  ...    0.038483   17.850021    0.051850\n",
       "\n",
       "[5 rows x 11 columns]"
      ]
     },
     "execution_count": 3,
     "metadata": {
      "tags": []
     },
     "output_type": "execute_result"
    }
   ],
   "source": [
    "#查看测试集前5行\n",
    "test.head()"
   ]
  },
  {
   "cell_type": "markdown",
   "metadata": {
    "colab_type": "text",
    "id": "NsyEn5iCaiYc"
   },
   "source": [
    "**3、数据处理**\n",
    "\n",
    "对数据可视化分析\n",
    "\n",
    "对标签进行标签编码（标签是字符串类型）\n",
    "\n",
    "对异常值处理（画图分析异常值）\n",
    "\n",
    "构建新的特征（提取特征中的重要信息，重建重要的特征）"
   ]
  },
  {
   "cell_type": "code",
   "execution_count": 7,
   "metadata": {
    "colab": {
     "base_uri": "https://localhost:8080/",
     "height": 329
    },
    "colab_type": "code",
    "executionInfo": {
     "elapsed": 1194,
     "status": "ok",
     "timestamp": 1574778032420,
     "user": {
      "displayName": "关亦林",
      "photoUrl": "",
      "userId": "18260288366228229598"
     },
     "user_tz": -480
    },
    "id": "-TQCbxCXEIUl",
    "outputId": "606c7bbf-92d2-4971-834e-4dd3144b2450"
   },
   "outputs": [
    {
     "name": "stderr",
     "output_type": "stream",
     "text": [
      "findfont: Font family ['sans-serif'] not found. Falling back to DejaVu Sans.\n",
      "findfont: Font family ['sans-serif'] not found. Falling back to DejaVu Sans.\n"
     ]
    },
    {
     "data": {
      "image/png": "[encoded data removed]",
      "text/plain": [
       "<Figure size 432x288 with 1 Axes>"
      ]
     },
     "metadata": {
      "tags": []
     },
     "output_type": "display_data"
    }
   ],
   "source": [
    "dit = {'Excellent':0,'Good':1,'Pass':2,'Fail':3}\n",
    "# 把训练集跟测试集进行合并  这样方便数据的统一处理  有标签的为训练集 标签为空的是测试集\n",
    "data = train.append(test).reset_index(drop=True)\n",
    "#直接map , dataframe 类别excellent 全为 0 ，类别good 全为1 .....\n",
    "train['label'] = train['Quality_label'].map(dit)  \n",
    "plt.rcParams['font.sans-serif']=['SimHei'] #用来正常显示中文标签\n",
    "plt.rcParams['axes.unicode_minus']=False\n",
    "%matplotlib inline\n",
    "import seaborn as sns\n",
    "train['label'].hist()\n",
    "# plt.xlabel('标签')\n",
    "# plt.ylabel('数量')\n",
    "# plt.title('训练集标签分布图')\n",
    "plt.show()\n",
    "#看出来 最后一列最小，标签分布均衡 "
   ]
  },
  {
   "cell_type": "code",
   "execution_count": 8,
   "metadata": {
    "colab": {
     "base_uri": "https://localhost:8080/",
     "height": 401
    },
    "colab_type": "code",
    "executionInfo": {
     "elapsed": 1247,
     "status": "ok",
     "timestamp": 1574778064893,
     "user": {
      "displayName": "关亦林",
      "photoUrl": "",
      "userId": "18260288366228229598"
     },
     "user_tz": -480
    },
    "id": "RE4PhQq7EIUj",
    "outputId": "5dcc1414-091c-4a94-9170-b974198c23eb"
   },
   "outputs": [
    {
     "data": {
      "text/plain": [
       "Attribute1       6000\n",
       "Attribute10      6000\n",
       "Attribute2       6000\n",
       "Attribute3       6000\n",
       "Attribute4       6000\n",
       "Attribute5       6000\n",
       "Attribute6       6000\n",
       "Attribute7       6000\n",
       "Attribute8       6000\n",
       "Attribute9       6000\n",
       "Group            6000\n",
       "Parameter1          0\n",
       "Parameter10         0\n",
       "Parameter2          0\n",
       "Parameter3          0\n",
       "Parameter4          0\n",
       "Parameter5          0\n",
       "Parameter6          0\n",
       "Parameter7          0\n",
       "Parameter8          0\n",
       "Parameter9          0\n",
       "Quality_label    6000\n",
       "dtype: int64"
      ]
     },
     "execution_count": 8,
     "metadata": {
      "tags": []
     },
     "output_type": "execute_result"
    }
   ],
   "source": [
    "#查看数据是否有空值\n",
    "data.isnull().sum()"
   ]
  },
  {
   "cell_type": "markdown",
   "metadata": {
    "colab_type": "text",
    "id": "bODDNBPFEIUn"
   },
   "source": [
    "训练集类别数"
   ]
  },
  {
   "cell_type": "code",
   "execution_count": 9,
   "metadata": {
    "colab": {
     "base_uri": "https://localhost:8080/",
     "height": 385
    },
    "colab_type": "code",
    "executionInfo": {
     "elapsed": 2132,
     "status": "ok",
     "timestamp": 1574778069219,
     "user": {
      "displayName": "关亦林",
      "photoUrl": "",
      "userId": "18260288366228229598"
     },
     "user_tz": -480
    },
    "id": "yqcaRKxREIUo",
    "outputId": "ba10c775-18fb-4d81-ea4e-b61b33f585a3"
   },
   "outputs": [
    {
     "name": "stdout",
     "output_type": "stream",
     "text": [
      "Parameter1 6000\n",
      "Parameter2 6000\n",
      "Parameter3 6000\n",
      "Parameter4 6000\n",
      "Parameter5 132\n",
      "Parameter6 80\n",
      "Parameter7 14\n",
      "Parameter8 23\n",
      "Parameter9 16\n",
      "Parameter10 41\n",
      "Attribute1 6000\n",
      "Attribute2 6000\n",
      "Attribute3 6000\n",
      "Attribute4 600\n",
      "Attribute5 553\n",
      "Attribute6 394\n",
      "Attribute7 702\n",
      "Attribute8 565\n",
      "Attribute9 626\n",
      "Attribute10 565\n",
      "Quality_label 4\n",
      "label 4\n"
     ]
    }
   ],
   "source": [
    "for i in train.columns:\n",
    "    print(i,len(train[i].unique()))"
   ]
  },
  {
   "cell_type": "markdown",
   "metadata": {
    "colab_type": "text",
    "id": "dYR-6b9DEIUq"
   },
   "source": [
    "测试集类别数"
   ]
  },
  {
   "cell_type": "code",
   "execution_count": 10,
   "metadata": {
    "colab": {
     "base_uri": "https://localhost:8080/",
     "height": 201
    },
    "colab_type": "code",
    "executionInfo": {
     "elapsed": 2193,
     "status": "ok",
     "timestamp": 1574778070153,
     "user": {
      "displayName": "关亦林",
      "photoUrl": "",
      "userId": "18260288366228229598"
     },
     "user_tz": -480
    },
    "id": "dt7iMLONEIUr",
    "outputId": "d3204f8c-7b78-4294-910d-560b678af6e2"
   },
   "outputs": [
    {
     "name": "stdout",
     "output_type": "stream",
     "text": [
      "Group 120\n",
      "Parameter1 5675\n",
      "Parameter10 41\n",
      "Parameter2 5675\n",
      "Parameter3 5675\n",
      "Parameter4 5675\n",
      "Parameter5 130\n",
      "Parameter6 76\n",
      "Parameter7 15\n",
      "Parameter8 23\n",
      "Parameter9 16\n"
     ]
    }
   ],
   "source": [
    "for i in test.columns:\n",
    "    print(i,len(test[i].unique()))"
   ]
  },
  {
   "cell_type": "markdown",
   "metadata": {
    "colab_type": "text",
    "id": "O9uPVWytEIUu"
   },
   "source": [
    "一看前面p1-p5类别特别多"
   ]
  },
  {
   "cell_type": "code",
   "execution_count": 11,
   "metadata": {
    "colab": {
     "base_uri": "https://localhost:8080/",
     "height": 1000
    },
    "colab_type": "code",
    "executionInfo": {
     "elapsed": 6540,
     "status": "ok",
     "timestamp": 1574778075087,
     "user": {
      "displayName": "关亦林",
      "photoUrl": "",
      "userId": "18260288366228229598"
     },
     "user_tz": -480
    },
    "id": "AwO3k-DqaiYd",
    "outputId": "18790dd9-fa0a-4dcb-d055-f6bc346f912f"
   },
   "outputs": [
    {
     "data": {
      "image/png": "[encoded data removed]",
      "text/plain": [
       "<Figure size 864x360 with 1 Axes>"
      ]
     },
     "metadata": {
      "tags": []
     },
     "output_type": "display_data"
    },
    {
     "data": {
      "image/png": "[encoded data removed]",
      "text/plain": [
       "<Figure size 864x360 with 1 Axes>"
      ]
     },
     "metadata": {
      "tags": []
     },
     "output_type": "display_data"
    },
    {
     "data": {
      "image/png": "[encoded data removed]",
      "text/plain": [
       "<Figure size 864x360 with 1 Axes>"
      ]
     },
     "metadata": {
      "tags": []
     },
     "output_type": "display_data"
    },
    {
     "data": {
      "image/png": "[encoded data removed]",
      "text/plain": [
       "<Figure size 864x360 with 1 Axes>"
      ]
     },
     "metadata": {
      "tags": []
     },
     "output_type": "display_data"
    },
    {
     "data": {
      "image/png": "[encoded data removed]",
      "text/plain": [
       "<Figure size 864x360 with 1 Axes>"
      ]
     },
     "metadata": {
      "tags": []
     },
     "output_type": "display_data"
    },
    {
     "data": {
      "image/png": "[encoded data removed]",
      "text/plain": [
       "<Figure size 864x360 with 1 Axes>"
      ]
     },
     "metadata": {
      "tags": []
     },
     "output_type": "display_data"
    },
    {
     "data": {
      "image/png": "[encoded data removed]",
      "text/plain": [
       "<Figure size 864x360 with 1 Axes>"
      ]
     },
     "metadata": {
      "tags": []
     },
     "output_type": "display_data"
    },
    {
     "data": {
      "image/png": "[encoded data removed]",
      "text/plain": [
       "<Figure size 864x360 with 1 Axes>"
      ]
     },
     "metadata": {
      "tags": []
     },
     "output_type": "display_data"
    },
    {
     "data": {
      "image/png": "[encoded data removed]",
      "text/plain": [
       "<Figure size 864x360 with 1 Axes>"
      ]
     },
     "metadata": {
      "tags": []
     },
     "output_type": "display_data"
    },
    {
     "data": {
      "image/png": "[encoded data removed]",
      "text/plain": [
       "<Figure size 864x360 with 1 Axes>"
      ]
     },
     "metadata": {
      "tags": []
     },
     "output_type": "display_data"
    }
   ],
   "source": [
    "#数据可视化  查看训练集 测试集 的密度估计图 (可以更直观的分析数据)\n",
    "#训练集 istrain== 1\n",
    "#测试集 istrain==0\n",
    "train['IStrain'] = 1\n",
    "test['IStrain'] = 0\n",
    "#合并数据\n",
    "data = pd.concat([train,test])\n",
    "#训练集数据\n",
    "train_mask = data.IStrain==1\n",
    "# 测试集数据\n",
    "test_mask =  data.IStrain==0\n",
    "#对它循环进行显示\n",
    "for col in test.columns:\n",
    "    #对istrain group 这两列进行排除，因为它们跟我们的可视化无关\n",
    "    if col in ['IStrain','Group']:\n",
    "        continue\n",
    "        #设置图像大小\n",
    "    fig, ax = plt.subplots(1, 1, figsize=(12, 5))\n",
    "    #画出折线图\n",
    "    sns.kdeplot(data.loc[train_mask, col], ax=ax, label='Train data')\n",
    "    sns.kdeplot(data.loc[test_mask, col], ax=ax, label='Test data')\n",
    "    #给每一个列名为表名\n",
    "    ax.set_title('name: {}'.format(col))\n",
    "    plt.show()\n",
    "    "
   ]
  },
  {
   "cell_type": "markdown",
   "metadata": {
    "colab_type": "text",
    "id": "2HhinSMMEIUw"
   },
   "source": [
    "由上面密度估计图可以看出特征P1-P4这密度分布不同，我们可以先删掉试一下，最后果然分数上升了。"
   ]
  },
  {
   "cell_type": "code",
   "execution_count": 12,
   "metadata": {
    "colab": {
     "base_uri": "https://localhost:8080/",
     "height": 1000
    },
    "colab_type": "code",
    "executionInfo": {
     "elapsed": 9177,
     "status": "ok",
     "timestamp": 1574778078160,
     "user": {
      "displayName": "关亦林",
      "photoUrl": "",
      "userId": "18260288366228229598"
     },
     "user_tz": -480
    },
    "id": "0dnCy4kOaiYg",
    "outputId": "0601c19e-01fb-4542-fd28-a006030d99c3"
   },
   "outputs": [
    {
     "data": {
      "image/png": "[encoded data removed]",
      "text/plain": [
       "<Figure size 864x360 with 1 Axes>"
      ]
     },
     "metadata": {
      "tags": []
     },
     "output_type": "display_data"
    },
    {
     "data": {
      "image/png": "[encoded data removed]",
      "text/plain": [
       "<Figure size 864x360 with 1 Axes>"
      ]
     },
     "metadata": {
      "tags": []
     },
     "output_type": "display_data"
    },
    {
     "data": {
      "image/png": "[encoded data removed]",
      "text/plain": [
       "<Figure size 864x360 with 1 Axes>"
      ]
     },
     "metadata": {
      "tags": []
     },
     "output_type": "display_data"
    },
    {
     "data": {
      "image/png": "[encoded data removed]",
      "text/plain": [
       "<Figure size 864x360 with 1 Axes>"
      ]
     },
     "metadata": {
      "tags": []
     },
     "output_type": "display_data"
    },
    {
     "data": {
      "image/png": "[encoded data removed]",
      "text/plain": [
       "<Figure size 864x360 with 1 Axes>"
      ]
     },
     "metadata": {
      "tags": []
     },
     "output_type": "display_data"
    },
    {
     "data": {
      "image/png": "[encoded data removed]",
      "text/plain": [
       "<Figure size 864x360 with 1 Axes>"
      ]
     },
     "metadata": {
      "tags": []
     },
     "output_type": "display_data"
    },
    {
     "data": {
      "image/png": "[encoded data removed]",
      "text/plain": [
       "<Figure size 864x360 with 1 Axes>"
      ]
     },
     "metadata": {
      "tags": []
     },
     "output_type": "display_data"
    },
    {
     "data": {
      "image/png": "[encoded data removed]",
      "text/plain": [
       "<Figure size 864x360 with 1 Axes>"
      ]
     },
     "metadata": {
      "tags": []
     },
     "output_type": "display_data"
    },
    {
     "data": {
      "image/png": "[encoded data removed]",
      "text/plain": [
       "<Figure size 864x360 with 1 Axes>"
      ]
     },
     "metadata": {
      "tags": []
     },
     "output_type": "display_data"
    },
    {
     "data": {
      "image/png": "[encoded data removed]",
      "text/plain": [
       "<Figure size 864x360 with 1 Axes>"
      ]
     },
     "metadata": {
      "tags": []
     },
     "output_type": "display_data"
    }
   ],
   "source": [
    "#对数据重置下标 生成index 列\n",
    "data = data.reset_index()\n",
    "#更改列名  把刚生成index列 改成 indexCol\n",
    "data = data.rename(columns={'index':'indexCol'})\n",
    "# 循环输出每一列的数据分布图\n",
    "for col in test.columns:\n",
    "    if col in ['IStrain','Group']:\n",
    "        continue\n",
    "    #设置图像大小（长12，宽5）\n",
    "    plt.figure(figsize=(12, 5))\n",
    "#     训练集为红色的部分 ，右边6000-12000 indexcol \n",
    "    plt.scatter(data.loc[data.IStrain==1,'indexCol']+6000, data.loc[data.IStrain==1,col], color='r')\n",
    "#     测试集为蓝色的部分 ，右边0-6000 indexcol \n",
    "    plt.scatter(data.loc[data.IStrain==0,'indexCol'], data.loc[data.IStrain==0,col], color='b')\n",
    "    #设置x轴的 表名\n",
    "    plt.xlabel('indexCol')\n",
    "    #设置表名\n",
    "    plt.title(col)\n",
    "    plt.show()"
   ]
  },
  {
   "cell_type": "markdown",
   "metadata": {
    "colab_type": "text",
    "id": "sP126vAGEIUz"
   },
   "source": [
    "由上图特征训练集测试集分布图发现里面p5可能是类别特征，\n",
    "\n",
    "因为数值比较均衡（每一层每一层间隔相差不大），\n",
    "\n",
    "而且每一个特征里面都有噪音点。\n",
    "\n",
    "由此我们可以先进行处理（可以进行填充，可以进行删除）\n",
    "\n",
    "众数填充法：每一列的异常值用这一特征的众数来填充：\n",
    "\n",
    "线上验证：\n",
    "\n",
    "用平均值填充比众数填充分数会更低\n",
    "所以选择众数填充 "
   ]
  },
  {
   "cell_type": "code",
   "execution_count": 0,
   "metadata": {
    "colab": {},
    "colab_type": "code",
    "id": "jF4r3YP4aiYj"
   },
   "outputs": [],
   "source": [
    "#定义一个数据处理的函数\n",
    "def Clean(train,test):\n",
    "    # 标签编码\n",
    "    # Excellent':,'Good':,'Pass':,'Fail':四个类别进行编码 使它变成数值型\n",
    "    #用一个字典 先封装   #用 0 1 2 3 对类别的映射\n",
    "    dit = {'Excellent':0,'Good':1,'Pass':2,'Fail':3}\n",
    "    # 把训练集跟测试集进行合并  这样方便数据的统一处理  有标签的为训练集 标签为空的是测试集\n",
    "    data = train.append(test).reset_index(drop=True)\n",
    "    #直接map , dataframe 类别excellent 全为 0 ，类别good 全为1 .....\n",
    "    data['label'] = data['Quality_label'].map(dit)\n",
    "    \n",
    "    #因为数据本身保留了很多位小数 所以进行保留7位小数 这样可以清理一些异常值 \n",
    "    data=np.around(data, decimals=7)\n",
    "    \n",
    "    #数据异常值处理 ，这些数据偏离了离群点 我们对它进行异常值处理 用众数填充\n",
    "    #也可以用其它填充 ，我们这里选择用众数填充 能上分\n",
    "    data['Parameter5'][data['Parameter5']>50]=data['Parameter5'].mode().values[0]\n",
    "    data['Parameter7'][data['Parameter7']>5000]=data['Parameter7'].mode().values[0]\n",
    "    data['Parameter8'][data['Parameter8']>2000]=data['Parameter8'].mode().values[0]\n",
    "    #进行特征选择 只选择有用的p5-p10列\n",
    "    feature_name = ['Parameter{0}'.format(i) for i in range(5, 11)]\n",
    "    #数据处理完了 分开训练集 测试集  tr_index 训练集数据的下标\n",
    "    tr_index = ~data['label'].isnull()\n",
    "    X_train = data[tr_index][feature_name].reset_index(drop=True)\n",
    "    #X_test 已划分好的测试集数据\n",
    "    y0 = data[tr_index]['label'].reset_index(drop=True).astype(int)\n",
    "    X_test = data[~tr_index][feature_name].reset_index(drop=True)\n",
    "   \n",
    "    #p5  p6 类别特征 进行训练集 测试集的统一\n",
    "    for i in X_train['Parameter6'].unique():\n",
    "        if i not in X_test['Parameter6'].unique():\n",
    "            #如果不统一的用众数填充\n",
    "            X_train['Parameter6'][X_train['Parameter6']==i]=X_train['Parameter6'].mode().values[0]\n",
    "    #与上面一样\n",
    "    for i in X_train['Parameter5'].unique():\n",
    "        if i not in X_test['Parameter5'].unique():\n",
    "            X_train['Parameter5'][X_train['Parameter5']==i]=X_train['Parameter5'].mode().values[0]\n",
    "\n",
    "    #添加新特征  p78\n",
    "    #我们可以对标签进行排序观察，p7 跟 p8 搭配的时候明显更好一些\n",
    "    X_train['Parameter78']=X_train['Parameter7']+X_train['Parameter8']\n",
    "    X_test['Parameter78']=X_test['Parameter7']+X_test['Parameter8']\n",
    "#     返回训练集，测试集 ，训练集标签，所有总数据集\n",
    "    return X_train,X_test,y0,data\n",
    "    "
   ]
  },
  {
   "cell_type": "code",
   "execution_count": 14,
   "metadata": {
    "colab": {
     "base_uri": "https://localhost:8080/",
     "height": 424
    },
    "colab_type": "code",
    "executionInfo": {
     "elapsed": 8625,
     "status": "ok",
     "timestamp": 1574778078163,
     "user": {
      "displayName": "关亦林",
      "photoUrl": "",
      "userId": "18260288366228229598"
     },
     "user_tz": -480
    },
    "id": "ZCWAzNL3EIU1",
    "outputId": "aab45a7d-476d-49b9-9711-8ae9260e7ea6"
   },
   "outputs": [
    {
     "data": {
      "text/html": [
       "<div>\n",
       "<style scoped>\n",
       "    .dataframe tbody tr th:only-of-type {\n",
       "        vertical-align: middle;\n",
       "    }\n",
       "\n",
       "    .dataframe tbody tr th {\n",
       "        vertical-align: top;\n",
       "    }\n",
       "\n",
       "    .dataframe thead th {\n",
       "        text-align: right;\n",
       "    }\n",
       "</style>\n",
       "<table border=\"1\" class=\"dataframe\">\n",
       "  <thead>\n",
       "    <tr style=\"text-align: right;\">\n",
       "      <th></th>\n",
       "      <th>Parameter1</th>\n",
       "      <th>Parameter2</th>\n",
       "      <th>Parameter3</th>\n",
       "      <th>Parameter4</th>\n",
       "      <th>Parameter5</th>\n",
       "      <th>Parameter6</th>\n",
       "      <th>Parameter7</th>\n",
       "      <th>Parameter8</th>\n",
       "      <th>Parameter9</th>\n",
       "      <th>Parameter10</th>\n",
       "      <th>Attribute1</th>\n",
       "      <th>Attribute2</th>\n",
       "      <th>Attribute3</th>\n",
       "      <th>Attribute4</th>\n",
       "      <th>Attribute5</th>\n",
       "      <th>Attribute6</th>\n",
       "      <th>Attribute7</th>\n",
       "      <th>Attribute8</th>\n",
       "      <th>Attribute9</th>\n",
       "      <th>Attribute10</th>\n",
       "      <th>Quality_label</th>\n",
       "      <th>label</th>\n",
       "      <th>IStrain</th>\n",
       "    </tr>\n",
       "  </thead>\n",
       "  <tbody>\n",
       "    <tr>\n",
       "      <th>2999</th>\n",
       "      <td>0.775060</td>\n",
       "      <td>0.334427</td>\n",
       "      <td>0.161720</td>\n",
       "      <td>0.250355</td>\n",
       "      <td>4.303959</td>\n",
       "      <td>7.117767</td>\n",
       "      <td>0.152059</td>\n",
       "      <td>6.542504</td>\n",
       "      <td>0.051850</td>\n",
       "      <td>0.140916</td>\n",
       "      <td>0.015183</td>\n",
       "      <td>169.198386</td>\n",
       "      <td>0.507549</td>\n",
       "      <td>0.101028</td>\n",
       "      <td>0.347024</td>\n",
       "      <td>0.137552</td>\n",
       "      <td>0.029131</td>\n",
       "      <td>0.042813</td>\n",
       "      <td>1.089579</td>\n",
       "      <td>0.730296</td>\n",
       "      <td>Excellent</td>\n",
       "      <td>0</td>\n",
       "      <td>1</td>\n",
       "    </tr>\n",
       "    <tr>\n",
       "      <th>1812</th>\n",
       "      <td>0.021385</td>\n",
       "      <td>9.980549</td>\n",
       "      <td>0.104796</td>\n",
       "      <td>3.814870</td>\n",
       "      <td>1.434060</td>\n",
       "      <td>1.495371</td>\n",
       "      <td>0.600827</td>\n",
       "      <td>17.850021</td>\n",
       "      <td>6.783967</td>\n",
       "      <td>0.140916</td>\n",
       "      <td>8656.927657</td>\n",
       "      <td>0.836110</td>\n",
       "      <td>1.118314</td>\n",
       "      <td>0.486536</td>\n",
       "      <td>0.453942</td>\n",
       "      <td>1.085935</td>\n",
       "      <td>0.029131</td>\n",
       "      <td>0.036330</td>\n",
       "      <td>0.120655</td>\n",
       "      <td>0.329465</td>\n",
       "      <td>Excellent</td>\n",
       "      <td>0</td>\n",
       "      <td>1</td>\n",
       "    </tr>\n",
       "    <tr>\n",
       "      <th>1808</th>\n",
       "      <td>1.989558</td>\n",
       "      <td>0.168806</td>\n",
       "      <td>0.025329</td>\n",
       "      <td>242.547177</td>\n",
       "      <td>2.225808</td>\n",
       "      <td>2.208755</td>\n",
       "      <td>0.600827</td>\n",
       "      <td>17.850021</td>\n",
       "      <td>6.783967</td>\n",
       "      <td>0.140916</td>\n",
       "      <td>3.178844</td>\n",
       "      <td>0.005566</td>\n",
       "      <td>0.128829</td>\n",
       "      <td>2.413615</td>\n",
       "      <td>5.244824</td>\n",
       "      <td>0.282807</td>\n",
       "      <td>4.064992</td>\n",
       "      <td>2.526035</td>\n",
       "      <td>0.715660</td>\n",
       "      <td>1.444786</td>\n",
       "      <td>Excellent</td>\n",
       "      <td>0</td>\n",
       "      <td>1</td>\n",
       "    </tr>\n",
       "    <tr>\n",
       "      <th>1805</th>\n",
       "      <td>0.066541</td>\n",
       "      <td>0.080898</td>\n",
       "      <td>1209.537023</td>\n",
       "      <td>0.002363</td>\n",
       "      <td>1.994149</td>\n",
       "      <td>3.965023</td>\n",
       "      <td>0.600827</td>\n",
       "      <td>17.850021</td>\n",
       "      <td>6.783967</td>\n",
       "      <td>0.140916</td>\n",
       "      <td>0.440976</td>\n",
       "      <td>0.001997</td>\n",
       "      <td>0.047835</td>\n",
       "      <td>0.907001</td>\n",
       "      <td>0.391021</td>\n",
       "      <td>3.787746</td>\n",
       "      <td>0.060105</td>\n",
       "      <td>0.154942</td>\n",
       "      <td>0.235224</td>\n",
       "      <td>0.262447</td>\n",
       "      <td>Excellent</td>\n",
       "      <td>0</td>\n",
       "      <td>1</td>\n",
       "    </tr>\n",
       "    <tr>\n",
       "      <th>1804</th>\n",
       "      <td>0.068155</td>\n",
       "      <td>10.209165</td>\n",
       "      <td>27.491148</td>\n",
       "      <td>14.702733</td>\n",
       "      <td>1.786601</td>\n",
       "      <td>3.965023</td>\n",
       "      <td>0.600827</td>\n",
       "      <td>17.850021</td>\n",
       "      <td>6.783967</td>\n",
       "      <td>0.140916</td>\n",
       "      <td>3.832498</td>\n",
       "      <td>1370.923372</td>\n",
       "      <td>196.891502</td>\n",
       "      <td>0.172303</td>\n",
       "      <td>0.753916</td>\n",
       "      <td>0.089259</td>\n",
       "      <td>0.087288</td>\n",
       "      <td>0.064543</td>\n",
       "      <td>0.415397</td>\n",
       "      <td>94.334741</td>\n",
       "      <td>Excellent</td>\n",
       "      <td>0</td>\n",
       "      <td>1</td>\n",
       "    </tr>\n",
       "    <tr>\n",
       "      <th>...</th>\n",
       "      <td>...</td>\n",
       "      <td>...</td>\n",
       "      <td>...</td>\n",
       "      <td>...</td>\n",
       "      <td>...</td>\n",
       "      <td>...</td>\n",
       "      <td>...</td>\n",
       "      <td>...</td>\n",
       "      <td>...</td>\n",
       "      <td>...</td>\n",
       "      <td>...</td>\n",
       "      <td>...</td>\n",
       "      <td>...</td>\n",
       "      <td>...</td>\n",
       "      <td>...</td>\n",
       "      <td>...</td>\n",
       "      <td>...</td>\n",
       "      <td>...</td>\n",
       "      <td>...</td>\n",
       "      <td>...</td>\n",
       "      <td>...</td>\n",
       "      <td>...</td>\n",
       "      <td>...</td>\n",
       "    </tr>\n",
       "    <tr>\n",
       "      <th>2976</th>\n",
       "      <td>0.388007</td>\n",
       "      <td>0.170406</td>\n",
       "      <td>0.029923</td>\n",
       "      <td>0.000066</td>\n",
       "      <td>24.977511</td>\n",
       "      <td>15.528917</td>\n",
       "      <td>0.152059</td>\n",
       "      <td>0.035407</td>\n",
       "      <td>0.593081</td>\n",
       "      <td>268.213577</td>\n",
       "      <td>0.004584</td>\n",
       "      <td>0.838123</td>\n",
       "      <td>0.345346</td>\n",
       "      <td>64.925693</td>\n",
       "      <td>32.381629</td>\n",
       "      <td>3.125413</td>\n",
       "      <td>2.247474</td>\n",
       "      <td>0.361914</td>\n",
       "      <td>173.228979</td>\n",
       "      <td>7732.288082</td>\n",
       "      <td>Fail</td>\n",
       "      <td>3</td>\n",
       "      <td>1</td>\n",
       "    </tr>\n",
       "    <tr>\n",
       "      <th>2975</th>\n",
       "      <td>0.008909</td>\n",
       "      <td>0.000031</td>\n",
       "      <td>0.023894</td>\n",
       "      <td>0.128737</td>\n",
       "      <td>31.117829</td>\n",
       "      <td>41.175410</td>\n",
       "      <td>0.152059</td>\n",
       "      <td>0.035407</td>\n",
       "      <td>0.593081</td>\n",
       "      <td>268.213577</td>\n",
       "      <td>55.201068</td>\n",
       "      <td>3.692411</td>\n",
       "      <td>0.422595</td>\n",
       "      <td>29.150091</td>\n",
       "      <td>1.144892</td>\n",
       "      <td>185.659101</td>\n",
       "      <td>7.352322</td>\n",
       "      <td>0.545607</td>\n",
       "      <td>0.052053</td>\n",
       "      <td>0.097035</td>\n",
       "      <td>Fail</td>\n",
       "      <td>3</td>\n",
       "      <td>1</td>\n",
       "    </tr>\n",
       "    <tr>\n",
       "      <th>2974</th>\n",
       "      <td>1170.722830</td>\n",
       "      <td>7.784725</td>\n",
       "      <td>952.918215</td>\n",
       "      <td>61.772851</td>\n",
       "      <td>22.377888</td>\n",
       "      <td>10.513382</td>\n",
       "      <td>0.152059</td>\n",
       "      <td>0.035407</td>\n",
       "      <td>0.593081</td>\n",
       "      <td>268.213577</td>\n",
       "      <td>0.019053</td>\n",
       "      <td>0.003154</td>\n",
       "      <td>0.129535</td>\n",
       "      <td>183.331967</td>\n",
       "      <td>46.325510</td>\n",
       "      <td>9.437984</td>\n",
       "      <td>0.097412</td>\n",
       "      <td>0.502603</td>\n",
       "      <td>9.364729</td>\n",
       "      <td>0.598517</td>\n",
       "      <td>Fail</td>\n",
       "      <td>3</td>\n",
       "      <td>1</td>\n",
       "    </tr>\n",
       "    <tr>\n",
       "      <th>4111</th>\n",
       "      <td>0.005806</td>\n",
       "      <td>708.642438</td>\n",
       "      <td>0.090179</td>\n",
       "      <td>0.008538</td>\n",
       "      <td>1.994149</td>\n",
       "      <td>2.684398</td>\n",
       "      <td>0.038483</td>\n",
       "      <td>17.850021</td>\n",
       "      <td>0.004533</td>\n",
       "      <td>0.002741</td>\n",
       "      <td>24.432426</td>\n",
       "      <td>0.002123</td>\n",
       "      <td>0.068502</td>\n",
       "      <td>148.961445</td>\n",
       "      <td>212.220185</td>\n",
       "      <td>0.581454</td>\n",
       "      <td>12.450688</td>\n",
       "      <td>4.133988</td>\n",
       "      <td>0.089678</td>\n",
       "      <td>3.798123</td>\n",
       "      <td>Fail</td>\n",
       "      <td>3</td>\n",
       "      <td>1</td>\n",
       "    </tr>\n",
       "    <tr>\n",
       "      <th>3666</th>\n",
       "      <td>0.013465</td>\n",
       "      <td>0.041679</td>\n",
       "      <td>0.428252</td>\n",
       "      <td>1.957224</td>\n",
       "      <td>4.303959</td>\n",
       "      <td>8.650538</td>\n",
       "      <td>2.374035</td>\n",
       "      <td>0.035407</td>\n",
       "      <td>0.051850</td>\n",
       "      <td>72.132213</td>\n",
       "      <td>60.413863</td>\n",
       "      <td>13330.393905</td>\n",
       "      <td>13.365228</td>\n",
       "      <td>107.494708</td>\n",
       "      <td>7.068581</td>\n",
       "      <td>82.026558</td>\n",
       "      <td>2.453708</td>\n",
       "      <td>0.198214</td>\n",
       "      <td>111.001857</td>\n",
       "      <td>3.112768</td>\n",
       "      <td>Fail</td>\n",
       "      <td>3</td>\n",
       "      <td>1</td>\n",
       "    </tr>\n",
       "  </tbody>\n",
       "</table>\n",
       "<p>6000 rows × 23 columns</p>\n",
       "</div>"
      ],
      "text/plain": [
       "       Parameter1  Parameter2   Parameter3  ...  Quality_label  label  IStrain\n",
       "2999     0.775060    0.334427     0.161720  ...      Excellent      0        1\n",
       "1812     0.021385    9.980549     0.104796  ...      Excellent      0        1\n",
       "1808     1.989558    0.168806     0.025329  ...      Excellent      0        1\n",
       "1805     0.066541    0.080898  1209.537023  ...      Excellent      0        1\n",
       "1804     0.068155   10.209165    27.491148  ...      Excellent      0        1\n",
       "...           ...         ...          ...  ...            ...    ...      ...\n",
       "2976     0.388007    0.170406     0.029923  ...           Fail      3        1\n",
       "2975     0.008909    0.000031     0.023894  ...           Fail      3        1\n",
       "2974  1170.722830    7.784725   952.918215  ...           Fail      3        1\n",
       "4111     0.005806  708.642438     0.090179  ...           Fail      3        1\n",
       "3666     0.013465    0.041679     0.428252  ...           Fail      3        1\n",
       "\n",
       "[6000 rows x 23 columns]"
      ]
     },
     "execution_count": 14,
     "metadata": {
      "tags": []
     },
     "output_type": "execute_result"
    }
   ],
   "source": [
    "#对训练集排序后进行查看 ，注意观察后面几列，可以看出来p7 p8 组合跟标签跟有关系\n",
    "train.sort_values(['label'])"
   ]
  },
  {
   "cell_type": "markdown",
   "metadata": {
    "colab_type": "text",
    "id": "XYT9E9SiaiYn"
   },
   "source": [
    "**4、生成数据**\n",
    "\n",
    "为了能够提分，我们这里用生成数据来增加训练集的数量\n",
    "\n",
    "就是用一些初赛的测试集 ，因为测试集没有标签列 所以我们把预测概率高的测试集（默认预测对的）当做训练集\n",
    "\n",
    "因为预测两次（生成数据之后再用生成的数据再生成一遍），尽可能的多生成一些有用的数据，\n",
    "\n",
    "步骤：数据预处理-->特征工程-->模型调用-->有用数据选取-->二次迭代"
   ]
  },
  {
   "cell_type": "markdown",
   "metadata": {
    "colab_type": "text",
    "id": "r3lBJQ0IEIU4"
   },
   "source": [
    "有些异常值比较难以发现，所以这里我们用模型训练法来删除某些异常值,这样让数据更好"
   ]
  },
  {
   "cell_type": "code",
   "execution_count": 0,
   "metadata": {
    "colab": {},
    "colab_type": "code",
    "id": "TOOsSFbNEIU5"
   },
   "outputs": [],
   "source": [
    "# 基于模型预测的异常值检测函数\n",
    "def find_outliers(model, X, y, tolerance=3):#tolerance 你要给的容差 ,我给的容差为3，就是你本来是不合格的产品，你预测成了优质的产品\n",
    "        #本来优质的产品你预测成了不合格的产品 ，这里把那些当成异常值\n",
    "        \n",
    "        #模型训练\n",
    "        model.fit(X,y)\n",
    "        #结果预测\n",
    "        y_pred = model.predict(X)\n",
    "        #求出绝对误差\n",
    "        resid=abs(y-y_pred)\n",
    "        #当判断模型预测出来的绝对误差大于你给的容差 ，我们就把它当做异常 获得它的下标\n",
    "        outliers = resid[abs(resid)>=tolerance].index\n",
    "#         返回绝对误差太大的数据下标\n",
    "        return outliers"
   ]
  },
  {
   "cell_type": "code",
   "execution_count": 16,
   "metadata": {
    "colab": {
     "base_uri": "https://localhost:8080/",
     "height": 301
    },
    "colab_type": "code",
    "executionInfo": {
     "elapsed": 47678,
     "status": "ok",
     "timestamp": 1574778118006,
     "user": {
      "displayName": "关亦林",
      "photoUrl": "",
      "userId": "18260288366228229598"
     },
     "user_tz": -480
    },
    "id": "5xDWJQ4raiYn",
    "outputId": "f064251d-6124-4170-e630-046fc7d63527"
   },
   "outputs": [
    {
     "name": "stdout",
     "output_type": "stream",
     "text": [
      "Int64Index([ 149,  170,  460,  672,  673,  740,  781,  815,  816,  821,  872,\n",
      "             931,  946, 1096, 1167, 1203, 1216, 1451, 1681, 1809, 1816, 2075,\n",
      "            2109, 2124, 2168, 2307, 2586, 2589, 2710, 2754, 2827, 2892, 2893,\n",
      "            2933, 3020, 3130, 3429, 3450, 3833, 3840, 3937, 4021, 4332, 4344,\n",
      "            4981, 5357, 5358, 5394, 5408, 5468, 5525, 5560, 5859, 5880, 5916,\n",
      "            5962],\n",
      "           dtype='int64')\n",
      "0:\tlearn: 1.3620734\ttotal: 15.8ms\tremaining: 22.8s\n",
      "1449:\tlearn: 0.8445692\ttotal: 17s\tremaining: 0us\n",
      "Int64Index([ 170,  460,  649,  672,  673,  707,  740,  872,  931,  946,  956,\n",
      "            1096, 1203, 1216, 1451, 1681, 1809, 1816, 2075, 2109, 2124, 2168,\n",
      "            2254, 2307, 2586, 2589, 2614, 2710, 2827, 2892, 2893, 2933, 3020,\n",
      "            3125, 3130, 3429, 3450, 3833, 3840, 3871, 3937, 4021, 4318, 4332,\n",
      "            4444, 5357, 5408, 5468, 5525, 5560, 5795, 5859, 5880, 5916, 5962],\n",
      "           dtype='int64')\n",
      "0:\tlearn: 1.3558664\ttotal: 11.4ms\tremaining: 16.5s\n",
      "1449:\tlearn: 0.7811129\ttotal: 17.6s\tremaining: 0us\n"
     ]
    }
   ],
   "source": [
    "#定义一个生成函数\n",
    "def Generatedata(train):\n",
    "    \n",
    "    #对数据进行处理，调用上面的clean函数\n",
    "    X_train,X_test,y0,data=Clean(train,test)\n",
    "    \n",
    "    #进行log1p 平滑数据 因为数据长尾 小的值很小 ，大的值贼大\n",
    "    X_train=np.log1p(X_train)\n",
    "    X_test=np.log1p(X_test)\n",
    "    \n",
    "  # 使用lgb模型查找和删除异常值 \n",
    "    outliers= find_outliers(LGBMClassifier(), X_train, y0)\n",
    "    print(outliers)\n",
    "    # 从数据中永久删除这些异常值\n",
    "    X_train=X_train.drop(outliers)\n",
    "    #把y0标签数据也删除\n",
    "    y0=y0.drop(outliers)\n",
    "    \n",
    "#     数据处理差不多了 ，我们进行训练模型了\n",
    "    \n",
    "    #调用模型 \n",
    "    cbt_model = cbt.CatBoostClassifier(iterations=1450,learning_rate=0.048,verbose=1900,task_type='GPU')\n",
    "    #训练模型\n",
    "    cbt_model.fit(X_train, y0)\n",
    "    #进行预测概率   predict_proba 可以对分类进行预测概率，得到的是每个类别的概率\n",
    "    prediction = cbt_model.predict_proba(X_test)\n",
    "#     第三个类别下标的列表\n",
    "    lis3=[]\n",
    "    tr=pd.DataFrame(prediction)\n",
    "    #把预测的大概率那些数据集取出来（这里我定义概率大于85的为大概率）\n",
    "    lis3.append(tr[tr[3]>0.85].index)\n",
    "#     第二个类别下标的列表\n",
    "    lis2=[]\n",
    "    tr=pd.DataFrame(prediction)\n",
    "    lis2.append(tr[tr[2]>0.85].index)\n",
    "#     把test 赋给test2\n",
    "    test2=test\n",
    "#     因为第一个，第四个类别没有概率大于百分之85的 所以没有计算\n",
    "    #训练集没有group 所以删掉\n",
    "    test2=test2.drop('Group',1)\n",
    "#     把测试集 变成训练集 给个预测的标签\n",
    "    tr=test2.iloc[list(lis3[0])]\n",
    "    tr['Quality_label']='Fail'\n",
    "    tr1=test2.iloc[list(lis2[0])]\n",
    "    tr1['Quality_label']='Pass'\n",
    "#     添加到一个\n",
    "    tr=tr.append(tr1)\n",
    "#     返回一个生成的训练集\n",
    "    return tr\n",
    "# 调用生成数据函数\n",
    "tr=Generatedata(train)\n",
    "# 重新导入数据\n",
    "train = pd.read_csv('/content/drive/My Drive/Colab Notebooks/离散制造/first_round_training_data.zip')\n",
    "test = pd.read_csv('/content/drive/My Drive/Colab Notebooks/离散制造/first_round_testing_data.zip')\n",
    "# 把之前的训练集加上生成的\n",
    "train=train.append(tr)\n",
    "#再进行生成一次 ，相当于迭代两次 会获得跟多的数据\n",
    "tr85_85=Generatedata(train)\n",
    "#tr85_85 就是我们上面生成好的训练集 ，下边使用直接添加到训练集就好了"
   ]
  },
  {
   "cell_type": "markdown",
   "metadata": {
    "colab_type": "text",
    "id": "9CWkDR6oaiYp"
   },
   "source": [
    "**5、特征工程与数据处理**\n",
    "\n",
    "构造全新的训练集：训练集加上生成的训练数据\n",
    "\n",
    "预测填充p9这一列的空值（初赛的时候p9是没有空值的，所以前面不需要填充 ，复赛p9有缺失值 所以我们要对p9处理）\n",
    "\n",
    "平滑数据（这里我们用log1）\n",
    "\n",
    "我们p9 跟其它特征 p5 p6 p7 p8 p10 相关性很大 ，所以用预测来做有很高的准确率 \n",
    "\n",
    "这里不用均值填充 ，因为缺失值太多 均值 众数填充价值不大，删除的话 这个是重要的特征 反而分数会更低 "
   ]
  },
  {
   "cell_type": "code",
   "execution_count": 17,
   "metadata": {
    "colab": {
     "base_uri": "https://localhost:8080/",
     "height": 33
    },
    "colab_type": "code",
    "executionInfo": {
     "elapsed": 49382,
     "status": "ok",
     "timestamp": 1574778120089,
     "user": {
      "displayName": "关亦林",
      "photoUrl": "",
      "userId": "18260288366228229598"
     },
     "user_tz": -480
    },
    "id": "ZUDZorHdaiYq",
    "outputId": "eb0aaec0-6c03-4f12-fe4e-5ff91cdb73f6"
   },
   "outputs": [
    {
     "name": "stdout",
     "output_type": "stream",
     "text": [
      "(19375, 21)\n"
     ]
    }
   ],
   "source": [
    "#加载复赛数据\n",
    "train = pd.read_csv('/content/drive/My Drive/Colab Notebooks/离散制造/first_round_training_data.zip')\n",
    "train1 = pd.read_csv('/content/drive/My Drive/Colab Notebooks/离散制造/second_round_training_data.zip')\n",
    "test = pd.read_csv('/content/drive/My Drive/Colab Notebooks/离散制造/second_round_testing_data_1.zip')\n",
    "tr1=tr85_85\n",
    "submit = pd.read_csv('/content/drive/My Drive/Colab Notebooks/离散制造/submit_example.zip')\n",
    "# 把生成的数据进行去重 重点是pass 类数据 ，因为它占的比重比较多\n",
    "t3=tr1[tr1['Quality_label']=='Pass']\n",
    "#drop_duplicates pd 的去重函数\n",
    "t3 = t3.drop_duplicates(subset=['Parameter5','Parameter6','Parameter7','Parameter8','Parameter9','Parameter10','Quality_label'], keep='first')\n",
    "# 在训练集删除重复的数据\n",
    "tr1=tr1.drop(t3.index,axis=0)\n",
    "\n",
    "# 把数据添加到train\n",
    "train=train.append(tr1)\n",
    "train=train.append(train1)\n",
    "#打印形状\n",
    "print(train.shape)\n",
    "\n"
   ]
  },
  {
   "cell_type": "code",
   "execution_count": 18,
   "metadata": {
    "colab": {
     "base_uri": "https://localhost:8080/",
     "height": 281
    },
    "colab_type": "code",
    "executionInfo": {
     "elapsed": 49171,
     "status": "ok",
     "timestamp": 1574778120091,
     "user": {
      "displayName": "关亦林",
      "photoUrl": "",
      "userId": "18260288366228229598"
     },
     "user_tz": -480
    },
    "id": "mQdbipjcEIU_",
    "outputId": "573c45d3-c891-4ed3-9b20-87d3a141d64c"
   },
   "outputs": [
    {
     "data": {
      "text/plain": [
       "<matplotlib.axes._subplots.AxesSubplot at 0x7fc2ec753a58>"
      ]
     },
     "execution_count": 18,
     "metadata": {
      "tags": []
     },
     "output_type": "execute_result"
    },
    {
     "data": {
      "image/png": "[encoded data removed]",
      "text/plain": [
       "<Figure size 432x288 with 1 Axes>"
      ]
     },
     "metadata": {
      "tags": []
     },
     "output_type": "display_data"
    }
   ],
   "source": [
    "%matplotlib inline\n",
    "import seaborn as sns\n",
    "# X['Quality_label'].hist()\n",
    "test['Parameter1']=np.log(test['Parameter1'])\n",
    "test['Parameter1'].hist()"
   ]
  },
  {
   "cell_type": "code",
   "execution_count": 19,
   "metadata": {
    "colab": {
     "base_uri": "https://localhost:8080/",
     "height": 281
    },
    "colab_type": "code",
    "executionInfo": {
     "elapsed": 48965,
     "status": "ok",
     "timestamp": 1574778120092,
     "user": {
      "displayName": "关亦林",
      "photoUrl": "",
      "userId": "18260288366228229598"
     },
     "user_tz": -480
    },
    "id": "sMKeTa3dEIVD",
    "outputId": "b0546940-82c5-4e64-8e84-c9dd470e8e0f"
   },
   "outputs": [
    {
     "data": {
      "text/plain": [
       "<matplotlib.axes._subplots.AxesSubplot at 0x7fc2ec743320>"
      ]
     },
     "execution_count": 19,
     "metadata": {
      "tags": []
     },
     "output_type": "execute_result"
    },
    {
     "data": {
      "image/png": "[encoded data removed]",
      "text/plain": [
       "<Figure size 432x288 with 1 Axes>"
      ]
     },
     "metadata": {
      "tags": []
     },
     "output_type": "display_data"
    }
   ],
   "source": [
    "test['Parameter2']=np.log(test['Parameter2'])\n",
    "test['Parameter2'].hist()"
   ]
  },
  {
   "cell_type": "code",
   "execution_count": 20,
   "metadata": {
    "colab": {
     "base_uri": "https://localhost:8080/",
     "height": 281
    },
    "colab_type": "code",
    "executionInfo": {
     "elapsed": 50498,
     "status": "ok",
     "timestamp": 1574778121819,
     "user": {
      "displayName": "关亦林",
      "photoUrl": "",
      "userId": "18260288366228229598"
     },
     "user_tz": -480
    },
    "id": "jvwjsfJFEIVG",
    "outputId": "09c53da7-a3d1-461c-c7dc-3dbd6bbba2f4"
   },
   "outputs": [
    {
     "data": {
      "text/plain": [
       "<matplotlib.axes._subplots.AxesSubplot at 0x7fc2ec753ef0>"
      ]
     },
     "execution_count": 20,
     "metadata": {
      "tags": []
     },
     "output_type": "execute_result"
    },
    {
     "data": {
      "image/png": "[encoded data removed]",
      "text/plain": [
       "<Figure size 432x288 with 1 Axes>"
      ]
     },
     "metadata": {
      "tags": []
     },
     "output_type": "display_data"
    }
   ],
   "source": [
    "test['Parameter3']=np.log(test['Parameter3'])\n",
    "test['Parameter3'].hist()"
   ]
  },
  {
   "cell_type": "code",
   "execution_count": 21,
   "metadata": {
    "colab": {
     "base_uri": "https://localhost:8080/",
     "height": 281
    },
    "colab_type": "code",
    "executionInfo": {
     "elapsed": 50285,
     "status": "ok",
     "timestamp": 1574778121820,
     "user": {
      "displayName": "关亦林",
      "photoUrl": "",
      "userId": "18260288366228229598"
     },
     "user_tz": -480
    },
    "id": "1QS-vuy2EIVK",
    "outputId": "1f9b6eb3-9f6c-415f-b20e-cd3c453e57df"
   },
   "outputs": [
    {
     "data": {
      "text/plain": [
       "<matplotlib.axes._subplots.AxesSubplot at 0x7fc2e4d89e48>"
      ]
     },
     "execution_count": 21,
     "metadata": {
      "tags": []
     },
     "output_type": "execute_result"
    },
    {
     "data": {
      "image/png": "[encoded data removed]",
      "text/plain": [
       "<Figure size 432x288 with 1 Axes>"
      ]
     },
     "metadata": {
      "tags": []
     },
     "output_type": "display_data"
    }
   ],
   "source": [
    "test['Parameter4']=np.log(test['Parameter4'])\n",
    "test['Parameter4'].hist()"
   ]
  },
  {
   "cell_type": "code",
   "execution_count": 22,
   "metadata": {
    "colab": {
     "base_uri": "https://localhost:8080/",
     "height": 117
    },
    "colab_type": "code",
    "executionInfo": {
     "elapsed": 72753,
     "status": "ok",
     "timestamp": 1574778144485,
     "user": {
      "displayName": "关亦林",
      "photoUrl": "",
      "userId": "18260288366228229598"
     },
     "user_tz": -480
    },
    "id": "DVR1TsnlEIVM",
    "outputId": "e4fb9734-10bf-4270-bb00-a928583047c5"
   },
   "outputs": [
    {
     "name": "stdout",
     "output_type": "stream",
     "text": [
      "Int64Index([  170,   460,   740,   872,  1096,  1171,  1172,  1203,  1216,\n",
      "             1517,\n",
      "            ...\n",
      "            18721, 18972, 18989, 19066, 19110, 19113, 19143, 19248, 19295,\n",
      "            19330],\n",
      "           dtype='int64', length=135)\n"
     ]
    }
   ],
   "source": [
    "# 对数据进行数据处理 直接调用上面的clean（）函数 ，因为复赛 初赛 都一样，只换了数据\n",
    "X_train,X_test,y0,data=Clean(train,test)\n",
    "\n",
    "\n",
    "#因为初赛的p1-p5  是一些连续型数据 而且总共是6000 行数据有6000个类别所以没有使用\n",
    "#复赛换了数据集 p1-p5 经过log 变换成正态分布 \n",
    "#使用k means 聚类获得一个p1-p5的特征，因为单独用p1-p5分数反而会下降，这也是特征选择的时候没有选择p1-p5的原因\n",
    "\n",
    "# 聚成150个类 ，跟其它的特征差不多，给个随机种子random_state\n",
    "kmeans = KMeans(n_clusters=150,random_state=456789)\n",
    "X=np.array(data[['Parameter1','Parameter2','Parameter3','Parameter4']])\n",
    "#用kmeas 训练\n",
    "kmeans.fit(X)\n",
    "# 得到聚好类的值\n",
    "y_kmeans = kmeans.predict(X)\n",
    "data['p1234']=pd.DataFrame(y_kmeans)\n",
    "\n",
    "feature_name = ['Parameter{0}'.format(i) for i in range(5, 11)]\n",
    "feature_name.append('p1234')\n",
    "tr_index = ~data['label'].isnull()\n",
    "#构建p1234特征\n",
    "X_train['p1234'] = data[tr_index]['p1234']\n",
    "X_test['p1234'] = data[~tr_index]['p1234']\n",
    "\n",
    "#选择特征 这些特征都用上能够提高预测p9的准确率\n",
    "X9_train=X_test[['Parameter5','Parameter6','Parameter7','Parameter8','Parameter9','Parameter10','Parameter78']][~test.isnull().T.any()]\n",
    "X9_test=X_test[['Parameter5','Parameter6','Parameter7','Parameter8','Parameter10','Parameter78']][test.isnull().T.any()]\n",
    "\n",
    "#对数据进行标签编码，因为标签是浮点型 不能做为标签\n",
    "y9_train = LabelEncoder().fit_transform(X9_train['Parameter9']) \n",
    "X9_train=X9_train.drop('Parameter9',1)\n",
    "# 使用lgb 来预测p9 线下准确率更高\n",
    "model2 = LGBMClassifier(random_state=15)\n",
    "model2.fit(X9_train,y9_train)\n",
    "p=model2.predict(X9_test)\n",
    "#重新导入训练集数据\n",
    "t=pd.read_csv('/content/drive/My Drive/Colab Notebooks/离散制造/second_round_training_data.zip')\n",
    "\n",
    "#我们只用<20000的 ，其它的太大了定为异常值 \n",
    "t9=t[t['Parameter9']<20000]\n",
    "# 我们要获得标签编码之前的数据得对它进行排序，标签编码的原理就是对数值进行排序过，然后就是它的下标+1\n",
    "t9=t9.sort_values(['Parameter9'])\n",
    "# zlst  p9 的所有种类数值\n",
    "zlst=t9['Parameter9'].unique()\n",
    "\n",
    "pr9=pd.DataFrame(p)\n",
    "for i in range(10):\n",
    "    pr9[0][pr9[0]==i]=zlst[i]\n",
    "p=np.array(pr9[0])\n",
    "\n",
    "X_test=X_test.fillna(-1)\n",
    "m9=0\n",
    "for i in X_test['Parameter9'].index:\n",
    "    if X_test.loc[[i],['Parameter9']].values[0][0]==-1:\n",
    "        X_test.loc[[i],['Parameter9']]=p[m9]\n",
    "        m9+=1\n",
    "\n",
    "#再对数据进行log1p 进行平滑\n",
    "X_train=np.log1p(X_train)\n",
    "X_test=np.log1p(X_test)\n",
    "\n",
    "# 使用模型查找和删除异常值\n",
    "outliers= find_outliers(LGBMClassifier(), X_train, y0)\n",
    "print(outliers)\n",
    "# 从数据中永久删除这些异常值\n",
    "X_train=X_train.drop(outliers)\n",
    "y0=y0.drop(outliers)"
   ]
  },
  {
   "cell_type": "markdown",
   "metadata": {
    "colab_type": "text",
    "id": "vGouZt69EIVN"
   },
   "source": [
    "**6、模型训练 **\n",
    "\n",
    "选择一个好的模型（初赛的时候catboost 比较好 ，复赛catboost 就崩了）\n",
    "\n",
    "因为这个是对数据随机分组的，而且分组的规律我们难以得知。所以我们很难用线下验证"
   ]
  },
  {
   "cell_type": "markdown",
   "metadata": {
    "colab_type": "text",
    "id": "IwzBgiDiEIVP"
   },
   "source": [
    "LGB (） 加上之前的 0.66\n",
    "\n",
    "------------------------------------------------------------------------------------\n",
    "\n",
    "xgb XGBClassifier(num_leaves=32, reg_alpha=3, reg_lambda=10,\n",
    "max_depth=30, n_estimators=200, objective='multiclass',\n",
    "subsample=0.7, colsample_bytree=0.7,\n",
    "random_state=60)  \n",
    " \n",
    "0.678\n",
    "--------------------------------------------------------------------------------------\n",
    "\n",
    ".CatBoostClassifier(iterations=1450,learning_rate=0.048,verbose=1900,task_type='GPU')\n",
    "\n",
    "0.6714\n",
    "--------------------------------------------------------------------------------------\n",
    "\n",
    ".CatBoostClassifier(iterations=1450,learning_rate=0.048,verbose=1900,task_type='CPU')\n",
    "\n",
    "0.6622\n",
    "--------------------------------------------------------------------------------------\n",
    "\n",
    "\n",
    ".CatBoostClassifier(iterations=1450,learning_rate=0.048,verbose=1900,task_type='CPU')\n",
    "不加初赛数据\n",
    "\n",
    "0.6550\n",
    "--------------------------------------------------------------------------------------\n"
   ]
  },
  {
   "cell_type": "code",
   "execution_count": 23,
   "metadata": {
    "colab": {
     "base_uri": "https://localhost:8080/",
     "height": 438
    },
    "colab_type": "code",
    "executionInfo": {
     "elapsed": 111068,
     "status": "ok",
     "timestamp": 1574778183389,
     "user": {
      "displayName": "关亦林",
      "photoUrl": "",
      "userId": "18260288366228229598"
     },
     "user_tz": -480
    },
    "id": "lrnBPMcHEIVP",
    "outputId": "2f138788-6a47-4977-d6e3-da95a4742329"
   },
   "outputs": [
    {
     "name": "stdout",
     "output_type": "stream",
     "text": [
      "0:\tlearn: 1.3592415\ttotal: 14.2ms\tremaining: 20.5s\n",
      "1449:\tlearn: 0.8692344\ttotal: 19.4s\tremaining: 0us\n"
     ]
    },
    {
     "data": {
      "text/html": [
       "<div>\n",
       "<style scoped>\n",
       "    .dataframe tbody tr th:only-of-type {\n",
       "        vertical-align: middle;\n",
       "    }\n",
       "\n",
       "    .dataframe tbody tr th {\n",
       "        vertical-align: top;\n",
       "    }\n",
       "\n",
       "    .dataframe thead th {\n",
       "        text-align: right;\n",
       "    }\n",
       "</style>\n",
       "<table border=\"1\" class=\"dataframe\">\n",
       "  <thead>\n",
       "    <tr style=\"text-align: right;\">\n",
       "      <th></th>\n",
       "      <th>Group</th>\n",
       "      <th>Excellent ratio</th>\n",
       "      <th>Good ratio</th>\n",
       "      <th>Pass ratio</th>\n",
       "      <th>Fail ratio</th>\n",
       "    </tr>\n",
       "  </thead>\n",
       "  <tbody>\n",
       "    <tr>\n",
       "      <th>0</th>\n",
       "      <td>0</td>\n",
       "      <td>0.120</td>\n",
       "      <td>0.12</td>\n",
       "      <td>0.740</td>\n",
       "      <td>0.02</td>\n",
       "    </tr>\n",
       "    <tr>\n",
       "      <th>50</th>\n",
       "      <td>1</td>\n",
       "      <td>0.200</td>\n",
       "      <td>0.26</td>\n",
       "      <td>0.380</td>\n",
       "      <td>0.16</td>\n",
       "    </tr>\n",
       "    <tr>\n",
       "      <th>100</th>\n",
       "      <td>2</td>\n",
       "      <td>0.100</td>\n",
       "      <td>0.24</td>\n",
       "      <td>0.420</td>\n",
       "      <td>0.24</td>\n",
       "    </tr>\n",
       "    <tr>\n",
       "      <th>150</th>\n",
       "      <td>3</td>\n",
       "      <td>0.220</td>\n",
       "      <td>0.30</td>\n",
       "      <td>0.360</td>\n",
       "      <td>0.12</td>\n",
       "    </tr>\n",
       "    <tr>\n",
       "      <th>200</th>\n",
       "      <td>4</td>\n",
       "      <td>0.220</td>\n",
       "      <td>0.20</td>\n",
       "      <td>0.300</td>\n",
       "      <td>0.28</td>\n",
       "    </tr>\n",
       "    <tr>\n",
       "      <th>...</th>\n",
       "      <td>...</td>\n",
       "      <td>...</td>\n",
       "      <td>...</td>\n",
       "      <td>...</td>\n",
       "      <td>...</td>\n",
       "    </tr>\n",
       "    <tr>\n",
       "      <th>5750</th>\n",
       "      <td>115</td>\n",
       "      <td>0.203</td>\n",
       "      <td>0.30</td>\n",
       "      <td>0.352</td>\n",
       "      <td>0.14</td>\n",
       "    </tr>\n",
       "    <tr>\n",
       "      <th>5800</th>\n",
       "      <td>116</td>\n",
       "      <td>0.063</td>\n",
       "      <td>0.10</td>\n",
       "      <td>0.712</td>\n",
       "      <td>0.12</td>\n",
       "    </tr>\n",
       "    <tr>\n",
       "      <th>5850</th>\n",
       "      <td>117</td>\n",
       "      <td>0.143</td>\n",
       "      <td>0.30</td>\n",
       "      <td>0.432</td>\n",
       "      <td>0.12</td>\n",
       "    </tr>\n",
       "    <tr>\n",
       "      <th>5900</th>\n",
       "      <td>118</td>\n",
       "      <td>0.083</td>\n",
       "      <td>0.18</td>\n",
       "      <td>0.612</td>\n",
       "      <td>0.12</td>\n",
       "    </tr>\n",
       "    <tr>\n",
       "      <th>5950</th>\n",
       "      <td>119</td>\n",
       "      <td>0.183</td>\n",
       "      <td>0.30</td>\n",
       "      <td>0.372</td>\n",
       "      <td>0.14</td>\n",
       "    </tr>\n",
       "  </tbody>\n",
       "</table>\n",
       "<p>120 rows × 5 columns</p>\n",
       "</div>"
      ],
      "text/plain": [
       "      Group  Excellent ratio  Good ratio  Pass ratio  Fail ratio\n",
       "0         0            0.120        0.12       0.740        0.02\n",
       "50        1            0.200        0.26       0.380        0.16\n",
       "100       2            0.100        0.24       0.420        0.24\n",
       "150       3            0.220        0.30       0.360        0.12\n",
       "200       4            0.220        0.20       0.300        0.28\n",
       "...     ...              ...         ...         ...         ...\n",
       "5750    115            0.203        0.30       0.352        0.14\n",
       "5800    116            0.063        0.10       0.712        0.12\n",
       "5850    117            0.143        0.30       0.432        0.12\n",
       "5900    118            0.083        0.18       0.612        0.12\n",
       "5950    119            0.183        0.30       0.372        0.14\n",
       "\n",
       "[120 rows x 5 columns]"
      ]
     },
     "execution_count": 23,
     "metadata": {
      "tags": []
     },
     "output_type": "execute_result"
    }
   ],
   "source": [
    "#使用catboost 模型 \n",
    "cbt_model = cbt.CatBoostClassifier(iterations=1450,learning_rate=0.048,verbose=1900,task_type='GPU')\n",
    "cbt_model.fit(X_train, y0 )\n",
    "# 预测测试集\n",
    "prediction = cbt_model.predict_proba(X_test)\n",
    "\n",
    "#使用xgb模型 \n",
    "xgbclf =XGBClassifier(num_leaves=30, reg_alpha=3, reg_lambda=10,\n",
    "max_depth=28, n_estimators=200, objective='multiclass',\n",
    "subsample=0.7, colsample_bytree=0.7,\n",
    "random_state=15,task_type='GPU').fit(X_train, y0 )\n",
    "p2 = xgbclf.predict_proba(X_test)\n",
    "sub = test[['Group']]\n",
    "\n",
    "prob_cols = [i for i in submit.columns if i not in ['Group']]\n",
    "for i, f in enumerate(prob_cols):\n",
    "    #对结果进行两个模型的权比融合，相对本题目比较好的给予大点的权重0.75 ，比较差的给0.25  的权重\n",
    "    sub[f] = 0.25*prediction[:,i]+0.75*p2[:,i]\n",
    "for i in prob_cols:\n",
    "    sub[i] = sub.groupby('Group')[i].transform('mean')\n",
    "sub = sub.drop_duplicates()\n",
    "base=sub\n",
    "# 定义一个数据后处理函数\n",
    "# 因为它的最后提交结果是50个为一组，是预测每一组的合格产品占多少比率，\n",
    "# 其它产品也是。所以取值是n/50 。既然是这个我们的结果最后必定为0.05的倍数。\n",
    "# 而我们用预测概率输出的模型预测出来的是0.242343432这样子的，\n",
    "# 这时候我们可以让它变成0.24 ，这样根据评分结果的话分数它会更高。\n",
    "\n",
    "def bianhuan(lst,d):\n",
    "    for a in lst:\n",
    "        #所有的数据取2位小数，当第二位小数是偶数是就不管 ，是奇数的话就加上0.01 从奇数变成偶数。\n",
    "        base2=base.round(3)+1\n",
    "        for i in base[a].index:\n",
    "            mm=str(int(1000*base2.loc[i,a]))\n",
    "            m= str(int(1000*base2.loc[i,a]))[2]\n",
    "            if int(m) % 2==0:\n",
    "                base.loc[i,a]=int(int(mm[:3])-100)/100\n",
    "            else:\n",
    "                base.loc[i,a]=int(int(mm[:3])-100)/100+0.01                                 \n",
    "    for i in base[d].index:\n",
    "        base.loc[i,d]=1-base.loc[i,lst[0]]-base.loc[i,lst[1]]-base.loc[i,lst[2]]\n",
    "    return base\n",
    "#4个类别的比率总和应该是1的 所以 其它的加上0.01了 就和不为1了  ，所以用一列进行填补\n",
    "# 用 pass ratio 列进行填补 是觉得它要减少点权重\n",
    "lst=['Good ratio','Excellent ratio','Fail ratio']\n",
    "d='Pass ratio'\n",
    "\n",
    "#根据数据分析 fail ratio 占比比较小 所以模型的预测结果会偏向比较多的类别 ，所以结果也会在fail ratic 上会偏小，\n",
    "# 这边稍微给它一点权重\n",
    "base['Fail ratio']+=0.005\n",
    "\n",
    "base=bianhuan(lst,d)\n",
    "\n",
    "#对后面50个进行随便处理 为了防止后处理的答案跟别人一样 ，经过后处理后分数很容易相同\n",
    "base['Excellent ratio'][(base['Group']>50)]+=0.003\n",
    "base['Pass ratio'][(base['Group']>50)]-=0.008\n",
    "\n",
    "#对数据进行保存csv  文档 \n",
    "# float_format='%.3f' 保留小数后三位小数\n",
    "base.to_csv(\"sub.csv\",index=False,float_format='%.3f')\n",
    "base"
   ]
  },
  {
   "cell_type": "markdown",
   "metadata": {
    "colab_type": "text",
    "id": "VxelUIpIaiYs"
   },
   "source": [
    "# 任务拓展"
   ]
  },
  {
   "cell_type": "markdown",
   "metadata": {
    "colab_type": "text",
    "id": "xO9MOhXWaiYt"
   },
   "source": [
    "#### **1、预测B类特征，B类特征用来做预测准确率更高**\n",
    "\n",
    "#### **2、模型还可以调参 已达到更高的分数**\n",
    "\n",
    "#### 3、可以用cpu 跑出来的算法 跟gpu 跑出来的算法融合 \n",
    "\n",
    "#### 4、挖掘很多的新特征 \n",
    "\n",
    "#### 5、使用其它算法 "
   ]
  },
  {
   "cell_type": "markdown",
   "metadata": {
    "colab_type": "text",
    "id": "UUX4ahePaiYt"
   },
   "source": [
    "# 任务信息"
   ]
  },
  {
   "cell_type": "markdown",
   "metadata": {
    "colab_type": "text",
    "id": "YyqQVMqPEIVU"
   },
   "source": [
    "https://www.datafountain.cn/competitions/351 赛题网址"
   ]
  },
  {
   "cell_type": "markdown",
   "metadata": {
    "colab_type": "text",
    "id": "NtJY_KJQEIVU"
   },
   "source": [
    "在高端制造领域，随着数字化转型的深入推进，越来越多的数据可以被用来分析和学习，进而实现制造过程中重要决策和控制环节的智能化，\n",
    "\n",
    "例如生产质量管理。从数据驱动的方法来看，生产质量管理通常需要完成质量影响因素挖掘及质量预测、质量控制优化等环节，本\n",
    "\n",
    "赛题将关注于第一个环节，基于对潜在的相关参数及历史生产数据的分析，完成质量相关因素的确认和最终质量符合率的预测。在实际生产中，\n",
    "\n",
    "该环节的结果将是后续控制优化的重要依据。\n",
    "\n",
    "由于在实际生产中，同一组工艺参数设定下生产的工件会出现多种质检结果，所以我们针对各组工艺参数定义其质检标准符合率，\n",
    "\n",
    "即为该组工艺参数生产的工件的质检结果分别符合优、良、合格与不合格四类指标的比率。相比预测各个工件的质检结果，\n",
    "\n",
    "预测该质检标准符合率会更具有实际意义。\n"
   ]
  },
  {
   "cell_type": "code",
   "execution_count": 0,
   "metadata": {
    "colab": {},
    "colab_type": "code",
    "id": "d3RCGJGdaiYu"
   },
   "outputs": [],
   "source": [
    "#### 本赛题要求参赛者对给定的工艺参数组合所生产工件的质检标准符合率进行预测。"
   ]
  },
  {
   "cell_type": "markdown",
   "metadata": {
    "colab_type": "text",
    "id": "KQysgJLMaiYw"
   },
   "source": [
    "# 任务环境"
   ]
  },
  {
   "cell_type": "markdown",
   "metadata": {
    "colab_type": "text",
    "id": "bfVrrFrQaiYw"
   },
   "source": [
    "**1、google  colab**\n",
    "\n",
    "**2、硬件加速器：GPU**\n",
    "\n",
    "**3、Python3.X（Numpy、Matplotlib、Pandas、Sklearn)**"
   ]
  },
  {
   "cell_type": "code",
   "execution_count": 0,
   "metadata": {
    "colab": {},
    "colab_type": "code",
    "id": "jXAxgdZ6FnRA"
   },
   "outputs": [],
   "source": []
  }
 ],
 "metadata": {
  "accelerator": "GPU",
  "colab": {
   "collapsed_sections": [],
   "name": "ccf 离散工业制造 (1).ipynb",
   "provenance": []
  },
  "kernelspec": {
   "display_name": "Python 3",
   "language": "python",
   "name": "python3"
  },
  "language_info": {
   "codemirror_mode": {
    "name": "ipython",
    "version": 3
   },
   "file_extension": ".py",
   "mimetype": "text/x-python",
   "name": "python",
   "nbconvert_exporter": "python",
   "pygments_lexer": "ipython3",
   "version": "3.6.5"
  },
  "toc": {
   "base_numbering": 1,
   "nav_menu": {},
   "number_sections": true,
   "sideBar": true,
   "skip_h1_title": false,
   "title_cell": "Table of Contents",
   "title_sidebar": "Contents",
   "toc_cell": false,
   "toc_position": {},
   "toc_section_display": true,
   "toc_window_display": false
  },
  "varInspector": {
   "cols": {
    "lenName": 16,
    "lenType": 16,
    "lenVar": 40
   },
   "kernels_config": {
    "python": {
     "delete_cmd_postfix": "",
     "delete_cmd_prefix": "del ",
     "library": "var_list.py",
     "varRefreshCmd": "print(var_dic_list())"
    },
    "r": {
     "delete_cmd_postfix": ") ",
     "delete_cmd_prefix": "rm(",
     "library": "var_list.r",
     "varRefreshCmd": "cat(var_dic_list()) "
    }
   },
   "types_to_exclude": [
    "module",
    "function",
    "builtin_function_or_method",
    "instance",
    "_Feature"
   ],
   "window_display": false
  }
 },
 "nbformat": 4,
 "nbformat_minor": 1
}
